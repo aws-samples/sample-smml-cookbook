{
 "cells": [
  {
   "cell_type": "markdown",
   "id": "e58b845d",
   "metadata": {},
   "source": [
    "Lab 0: TBD\n",
    "\n",
    "Show basic example of changing parameters to get better speeds from models"
   ]
  }
 ],
 "metadata": {
  "kernelspec": {
   "display_name": "Python 3",
   "language": "python",
   "name": "python3"
  },
  "language_info": {
   "codemirror_mode": {
    "name": "ipython",
    "version": 3
   },
   "file_extension": ".py",
   "mimetype": "text/x-python",
   "name": "python",
   "nbconvert_exporter": "python",
   "pygments_lexer": "ipython3",
   "version": "3.12.6"
  }
 },
 "nbformat": 4,
 "nbformat_minor": 5
}
