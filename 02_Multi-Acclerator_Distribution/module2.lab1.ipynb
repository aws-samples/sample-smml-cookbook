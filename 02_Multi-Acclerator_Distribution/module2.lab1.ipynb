{
  "cells": [
    {
      "cell_type": "markdown",
      "id": "95e9c9ba",
      "metadata": {},
      "source": [
        "# Module 2\n",
        "## Lab 1: Multi-Accelerator Distribtuion\n",
        "In this lab we will discuss how we can leverage multiple accelerators in a single device to perform distributed operations. We will review previous concepts, re-contextualized with multiple GPUs.\n",
        "\n",
        "### Pre-Requisite Knowledge\n",
        "We highly suggestion you read up on [sharding concepts and collective communications](https://jax-ml.github.io/scaling-book/sharding/).\n",
        "\n",
        "### In this Lab You Will:\n",
        "- Run a larger version of llama on multiple GPUs\n",
        "- Use different sharding methods\n",
        "- Do a basic distributed GEMM Calculation \n",
        "- Understand the different parallization approaches\n",
        "- (Optional) See a more detailed/conceptual breakdown of how matrices are sharded across GPUs\n"
      ]
    },
    {
      "cell_type": "markdown",
      "id": "a07b6a95",
      "metadata": {},
      "source": [
        "### Imports and GPU Information\n",
        "Here we import the relevant libraries and retrieve detailed information about the available GPUs in our environment. We use pynvml to get low-level GPU metrics (e.g., name, memory size, clock speeds), and set up any necessary environment variables (like PyTorch memory allocations). This step helps us understand and confirm our hardware configuration. "
      ]
    },
    {
      "cell_type": "code",
      "execution_count": 10,
      "id": "da81d30e",
      "metadata": {},
      "outputs": [],
      "source": [
        "import os\n",
        "parent_dir = os.path.abspath(os.path.join(os.getcwd(), \"..\"))\n",
        "os.chdir(parent_dir)"
      ]
    },
    {
      "cell_type": "code",
      "execution_count": 11,
      "id": "ee4db012",
      "metadata": {},
      "outputs": [
        {
          "name": "stdout",
          "output_type": "stream",
          "text": [
            "Defaulting to user installation because normal site-packages is not writeable\n",
            "Requirement already satisfied: deepspeed==0.16.2 in /home/ec2-user/.local/lib/python3.12/site-packages (0.16.2)\n",
            "Requirement already satisfied: transformers==4.47.1 in /home/ec2-user/.local/lib/python3.12/site-packages (4.47.1)\n",
            "Requirement already satisfied: accelerate==1.2.1 in /home/ec2-user/.local/lib/python3.12/site-packages (1.2.1)\n",
            "Requirement already satisfied: torch in /home/ec2-user/.local/lib/python3.12/site-packages (2.6.0)\n",
            "Requirement already satisfied: pynvml in /home/ec2-user/.local/lib/python3.12/site-packages (12.0.0)\n",
            "Requirement already satisfied: matplotlib in /home/ec2-user/.local/lib/python3.12/site-packages (3.10.1)\n",
            "Requirement already satisfied: numpy in /home/ec2-user/.local/lib/python3.12/site-packages (2.2.4)\n",
            "Requirement already satisfied: scipy in /home/ec2-user/.local/lib/python3.12/site-packages (1.15.2)\n",
            "Requirement already satisfied: torchvision in /home/ec2-user/.local/lib/python3.12/site-packages (0.21.0)\n",
            "Requirement already satisfied: mpi4py in /home/ec2-user/.local/lib/python3.12/site-packages (4.0.3)\n",
            "Requirement already satisfied: einops in /home/ec2-user/.local/lib/python3.12/site-packages (from deepspeed==0.16.2) (0.8.1)\n",
            "Requirement already satisfied: hjson in /home/ec2-user/.local/lib/python3.12/site-packages (from deepspeed==0.16.2) (3.1.0)\n",
            "Requirement already satisfied: msgpack in /home/ec2-user/.local/lib/python3.12/site-packages (from deepspeed==0.16.2) (1.1.0)\n",
            "Requirement already satisfied: ninja in /home/ec2-user/.local/lib/python3.12/site-packages (from deepspeed==0.16.2) (1.11.1.4)\n",
            "Requirement already satisfied: packaging>=20.0 in /home/ec2-user/.local/lib/python3.12/site-packages (from deepspeed==0.16.2) (24.2)\n",
            "Requirement already satisfied: psutil in /home/ec2-user/.local/lib/python3.12/site-packages (from deepspeed==0.16.2) (7.0.0)\n",
            "Requirement already satisfied: py-cpuinfo in /home/ec2-user/.local/lib/python3.12/site-packages (from deepspeed==0.16.2) (9.0.0)\n",
            "Requirement already satisfied: pydantic>=2.0.0 in /home/ec2-user/.local/lib/python3.12/site-packages (from deepspeed==0.16.2) (2.11.4)\n",
            "Requirement already satisfied: tqdm in /home/ec2-user/.local/lib/python3.12/site-packages (from deepspeed==0.16.2) (4.67.1)\n",
            "Requirement already satisfied: nvidia-ml-py in /home/ec2-user/.local/lib/python3.12/site-packages (from deepspeed==0.16.2) (12.570.86)\n",
            "Requirement already satisfied: filelock in /home/ec2-user/.local/lib/python3.12/site-packages (from transformers==4.47.1) (3.18.0)\n",
            "Requirement already satisfied: huggingface-hub<1.0,>=0.24.0 in /home/ec2-user/.local/lib/python3.12/site-packages (from transformers==4.47.1) (0.30.2)\n",
            "Requirement already satisfied: pyyaml>=5.1 in /home/ec2-user/.local/lib/python3.12/site-packages (from transformers==4.47.1) (6.0.2)\n",
            "Requirement already satisfied: regex!=2019.12.17 in /home/ec2-user/.local/lib/python3.12/site-packages (from transformers==4.47.1) (2024.11.6)\n",
            "Requirement already satisfied: requests in /home/ec2-user/.local/lib/python3.12/site-packages (from transformers==4.47.1) (2.32.3)\n",
            "Requirement already satisfied: tokenizers<0.22,>=0.21 in /home/ec2-user/.local/lib/python3.12/site-packages (from transformers==4.47.1) (0.21.1)\n",
            "Requirement already satisfied: safetensors>=0.4.1 in /home/ec2-user/.local/lib/python3.12/site-packages (from transformers==4.47.1) (0.5.3)\n",
            "Requirement already satisfied: fsspec>=2023.5.0 in /home/ec2-user/.local/lib/python3.12/site-packages (from huggingface-hub<1.0,>=0.24.0->transformers==4.47.1) (2025.3.2)\n",
            "Requirement already satisfied: typing-extensions>=3.7.4.3 in /home/ec2-user/.local/lib/python3.12/site-packages (from huggingface-hub<1.0,>=0.24.0->transformers==4.47.1) (4.13.2)\n",
            "Requirement already satisfied: networkx in /home/ec2-user/.local/lib/python3.12/site-packages (from torch) (3.4.2)\n",
            "Requirement already satisfied: jinja2 in /home/ec2-user/.local/lib/python3.12/site-packages (from torch) (3.1.6)\n",
            "Requirement already satisfied: nvidia-cuda-nvrtc-cu12==12.4.127 in /home/ec2-user/.local/lib/python3.12/site-packages (from torch) (12.4.127)\n",
            "Requirement already satisfied: nvidia-cuda-runtime-cu12==12.4.127 in /home/ec2-user/.local/lib/python3.12/site-packages (from torch) (12.4.127)\n",
            "Requirement already satisfied: nvidia-cuda-cupti-cu12==12.4.127 in /home/ec2-user/.local/lib/python3.12/site-packages (from torch) (12.4.127)\n",
            "Requirement already satisfied: nvidia-cudnn-cu12==9.1.0.70 in /home/ec2-user/.local/lib/python3.12/site-packages (from torch) (9.1.0.70)\n",
            "Requirement already satisfied: nvidia-cublas-cu12==12.4.5.8 in /home/ec2-user/.local/lib/python3.12/site-packages (from torch) (12.4.5.8)\n",
            "Requirement already satisfied: nvidia-cufft-cu12==11.2.1.3 in /home/ec2-user/.local/lib/python3.12/site-packages (from torch) (11.2.1.3)\n",
            "Requirement already satisfied: nvidia-curand-cu12==10.3.5.147 in /home/ec2-user/.local/lib/python3.12/site-packages (from torch) (10.3.5.147)\n",
            "Requirement already satisfied: nvidia-cusolver-cu12==11.6.1.9 in /home/ec2-user/.local/lib/python3.12/site-packages (from torch) (11.6.1.9)\n",
            "Requirement already satisfied: nvidia-cusparse-cu12==12.3.1.170 in /home/ec2-user/.local/lib/python3.12/site-packages (from torch) (12.3.1.170)\n",
            "Requirement already satisfied: nvidia-cusparselt-cu12==0.6.2 in /home/ec2-user/.local/lib/python3.12/site-packages (from torch) (0.6.2)\n",
            "Requirement already satisfied: nvidia-nccl-cu12==2.21.5 in /home/ec2-user/.local/lib/python3.12/site-packages (from torch) (2.21.5)\n",
            "Requirement already satisfied: nvidia-nvtx-cu12==12.4.127 in /home/ec2-user/.local/lib/python3.12/site-packages (from torch) (12.4.127)\n",
            "Requirement already satisfied: nvidia-nvjitlink-cu12==12.4.127 in /home/ec2-user/.local/lib/python3.12/site-packages (from torch) (12.4.127)\n",
            "Requirement already satisfied: triton==3.2.0 in /home/ec2-user/.local/lib/python3.12/site-packages (from torch) (3.2.0)\n",
            "Requirement already satisfied: setuptools in /home/ec2-user/.local/lib/python3.12/site-packages (from torch) (80.8.0)\n",
            "Requirement already satisfied: sympy==1.13.1 in /home/ec2-user/.local/lib/python3.12/site-packages (from torch) (1.13.1)\n",
            "Requirement already satisfied: mpmath<1.4,>=1.1.0 in /home/ec2-user/.local/lib/python3.12/site-packages (from sympy==1.13.1->torch) (1.3.0)\n",
            "Requirement already satisfied: contourpy>=1.0.1 in /home/ec2-user/.local/lib/python3.12/site-packages (from matplotlib) (1.3.2)\n",
            "Requirement already satisfied: cycler>=0.10 in /home/ec2-user/.local/lib/python3.12/site-packages (from matplotlib) (0.12.1)\n",
            "Requirement already satisfied: fonttools>=4.22.0 in /home/ec2-user/.local/lib/python3.12/site-packages (from matplotlib) (4.57.0)\n",
            "Requirement already satisfied: kiwisolver>=1.3.1 in /home/ec2-user/.local/lib/python3.12/site-packages (from matplotlib) (1.4.8)\n",
            "Requirement already satisfied: pillow>=8 in /home/ec2-user/.local/lib/python3.12/site-packages (from matplotlib) (11.2.1)\n",
            "Requirement already satisfied: pyparsing>=2.3.1 in /home/ec2-user/.local/lib/python3.12/site-packages (from matplotlib) (3.2.3)\n",
            "Requirement already satisfied: python-dateutil>=2.7 in /home/ec2-user/.local/lib/python3.12/site-packages (from matplotlib) (2.9.0.post0)\n",
            "Requirement already satisfied: annotated-types>=0.6.0 in /home/ec2-user/.local/lib/python3.12/site-packages (from pydantic>=2.0.0->deepspeed==0.16.2) (0.7.0)\n",
            "Requirement already satisfied: pydantic-core==2.33.2 in /home/ec2-user/.local/lib/python3.12/site-packages (from pydantic>=2.0.0->deepspeed==0.16.2) (2.33.2)\n",
            "Requirement already satisfied: typing-inspection>=0.4.0 in /home/ec2-user/.local/lib/python3.12/site-packages (from pydantic>=2.0.0->deepspeed==0.16.2) (0.4.0)\n",
            "Requirement already satisfied: six>=1.5 in /home/ec2-user/.local/lib/python3.12/site-packages (from python-dateutil>=2.7->matplotlib) (1.17.0)\n",
            "Requirement already satisfied: MarkupSafe>=2.0 in /home/ec2-user/.local/lib/python3.12/site-packages (from jinja2->torch) (3.0.2)\n",
            "Requirement already satisfied: charset-normalizer<4,>=2 in /home/ec2-user/.local/lib/python3.12/site-packages (from requests->transformers==4.47.1) (3.4.1)\n",
            "Requirement already satisfied: idna<4,>=2.5 in /home/ec2-user/.local/lib/python3.12/site-packages (from requests->transformers==4.47.1) (3.10)\n",
            "Requirement already satisfied: urllib3<3,>=1.21.1 in /home/ec2-user/.local/lib/python3.12/site-packages (from requests->transformers==4.47.1) (2.4.0)\n",
            "Requirement already satisfied: certifi>=2017.4.17 in /home/ec2-user/.local/lib/python3.12/site-packages (from requests->transformers==4.47.1) (2025.1.31)\n",
            "Note: you may need to restart the kernel to use updated packages.\n"
          ]
        }
      ],
      "source": [
        "# Step 1: Environment Setup\n",
        "%pip install deepspeed==0.16.2 transformers==4.47.1 accelerate==1.2.1 torch pynvml matplotlib numpy scipy torchvision mpi4py"
      ]
    },
    {
      "cell_type": "code",
      "execution_count": 1,
      "id": "9fee9c44",
      "metadata": {},
      "outputs": [
        {
          "name": "stdout",
          "output_type": "stream",
          "text": [
            "Last metadata expiration check: 2:13:04 ago on Thu May 22 17:48:53 2025.\n",
            "Package libaio-devel-0.3.111-11.amzn2023.0.2.x86_64 is already installed.\n",
            "Dependencies resolved.\n",
            "Nothing to do.\n",
            "Complete!\n"
          ]
        }
      ],
      "source": [
        "!sudo yum install -y libaio-devel # For Amazon Linux\n",
        "# !sudo apt-get update && sudo apt-get install -y libaio-dev # For Ubuntu"
      ]
    },
    {
      "cell_type": "code",
      "execution_count": 13,
      "id": "87efa90e",
      "metadata": {},
      "outputs": [
        {
          "name": "stdout",
          "output_type": "stream",
          "text": [
            "Available GPUs: 4\n",
            "GPU 0: NVIDIA L4\n",
            "  Memory: 22.49 GB\n",
            "  GPU Clock: 2040 MHz\n",
            "  Memory Clock: 6251 MHz\n",
            "  Approx. Memory Bandwidth: 0.30 TB/s\n",
            "  Compute Capability: (8, 9)\n",
            "GPU 1: NVIDIA L4\n",
            "  Memory: 22.49 GB\n",
            "  GPU Clock: 210 MHz\n",
            "  Memory Clock: 405 MHz\n",
            "  Approx. Memory Bandwidth: 0.30 TB/s\n",
            "  Compute Capability: (8, 9)\n",
            "GPU 2: NVIDIA L4\n",
            "  Memory: 22.49 GB\n",
            "  GPU Clock: 210 MHz\n",
            "  Memory Clock: 405 MHz\n",
            "  Approx. Memory Bandwidth: 0.30 TB/s\n",
            "  Compute Capability: (8, 9)\n",
            "GPU 3: NVIDIA L4\n",
            "  Memory: 22.49 GB\n",
            "  GPU Clock: 210 MHz\n",
            "  Memory Clock: 405 MHz\n",
            "  Approx. Memory Bandwidth: 0.30 TB/s\n",
            "  Compute Capability: (8, 9)\n",
            "\n",
            "Note: For detailed CUDA core and tensor core counts, refer to NVIDIA official GPU specifications.\n"
          ]
        }
      ],
      "source": [
        "# Step 2: Imports and GPU Information\n",
        "\n",
        "import torch\n",
        "import pynvml\n",
        "import os\n",
        "\n",
        "# Configure PyTorch memory\n",
        "os.environ[\"PYTORCH_CUDA_ALLOC_CONF\"] = \"expandable_segments:True\"\n",
        "\n",
        "pynvml.nvmlInit()\n",
        "num_gpus = pynvml.nvmlDeviceGetCount()\n",
        "memory_bandwidth_tb_s = 0.3\n",
        "\n",
        "print(f\"Available GPUs: {num_gpus}\")\n",
        "\n",
        "gpu_info = {}\n",
        "for i in range(num_gpus):\n",
        "    handle = pynvml.nvmlDeviceGetHandleByIndex(i)\n",
        "    name = pynvml.nvmlDeviceGetName(handle)\n",
        "    memory_info = pynvml.nvmlDeviceGetMemoryInfo(handle)\n",
        "    mem_total_tb = memory_info.total / (1024 ** 3)\n",
        "    clock_info = pynvml.nvmlDeviceGetClockInfo(handle, pynvml.NVML_CLOCK_GRAPHICS)\n",
        "    mem_clock_info = pynvml.nvmlDeviceGetClockInfo(handle, pynvml.NVML_CLOCK_MEM)\n",
        "    compute_capability = torch.cuda.get_device_capability(i)\n",
        "    \n",
        "    gpu_info[i] = {\n",
        "        'name': name,\n",
        "        'memory_tb': mem_total_tb,\n",
        "        'gpu_clock_mhz': clock_info,\n",
        "        'mem_clock_mhz': mem_clock_info,\n",
        "        'memory_bandwidth_tb_s': memory_bandwidth_tb_s,\n",
        "        'compute_capability': compute_capability\n",
        "    }\n",
        "    \n",
        "    print(f\"GPU {i}: {name}\")\n",
        "    print(f\"  Memory: {mem_total_tb:.2f} GB\")\n",
        "    print(f\"  GPU Clock: {clock_info} MHz\")\n",
        "    print(f\"  Memory Clock: {mem_clock_info} MHz\")\n",
        "    print(f\"  Approx. Memory Bandwidth: {memory_bandwidth_tb_s:.2f} TB/s\")\n",
        "    print(f\"  Compute Capability: {compute_capability}\")\n",
        "\n",
        "pynvml.nvmlShutdown()\n",
        "print(\"\\nNote: For detailed CUDA core and tensor core counts, refer to NVIDIA official GPU specifications.\")\n"
      ]
    },
    {
      "cell_type": "markdown",
      "id": "953dd823",
      "metadata": {},
      "source": [
        "**This time we will use all 4 GPUs**"
      ]
    },
    {
      "cell_type": "markdown",
      "id": "e3b8a99e",
      "metadata": {},
      "source": [
        "### Our Baseline\n",
        "\n",
        "Like last time, let's aim to deploy our llama model. This time we'll try to get closer to the larger model we want to run. So we'll do a llama model at 7B parameters. We'll still try to run it on one GPU.\n",
        "\n",
        "We'll use the same abstraction we used last time."
      ]
    },
    {
      "cell_type": "code",
      "execution_count": 14,
      "id": "13d7dd42",
      "metadata": {},
      "outputs": [
        {
          "data": {
            "application/vnd.jupyter.widget-view+json": {
              "model_id": "1b0c753efd52440cb8345dbe9ef6c467",
              "version_major": 2,
              "version_minor": 0
            },
            "text/plain": [
              "Loading checkpoint shards:   0%|          | 0/4 [00:00<?, ?it/s]"
            ]
          },
          "metadata": {},
          "output_type": "display_data"
        },
        {
          "name": "stdout",
          "output_type": "stream",
          "text": [
            "\n",
            "🔁 Running batch size = 1\n",
            "benchmark failed: CUDA out of memory. Tried to allocate 112.00 MiB. GPU 0 has a total capacity of 22.05 GiB of which 39.94 MiB is free. Including non-PyTorch memory, this process has 22.00 GiB memory in use. Of the allocated memory 21.73 GiB is allocated by PyTorch, and 32.11 MiB is reserved by PyTorch but unallocated. If reserved but unallocated memory is large try setting PYTORCH_CUDA_ALLOC_CONF=expandable_segments:True to avoid fragmentation.  See documentation for Memory Management  (https://pytorch.org/docs/stable/notes/cuda.html#environment-variables)\n"
          ]
        }
      ],
      "source": [
        "import torch\n",
        "import pynvml\n",
        "import os\n",
        "import json\n",
        "import importlib\n",
        "import src.utils.model_utils as mutils\n",
        "importlib.reload(mutils)\n",
        "\n",
        "results = mutils.benchmark_batch_sizes(\n",
        "    model_name=\"NousResearch/Meta-Llama-3.1-8B\",\n",
        "    seq_len=32,\n",
        "    batch_sizes=[1],\n",
        "    dtype=torch.bfloat16,\n",
        ")"
      ]
    },
    {
      "cell_type": "markdown",
      "id": "f7eb4a29",
      "metadata": {},
      "source": [
        "We ran out of memory! This is to be expected this model is more than 8x the size of the last model we ran. Batching won't solve this, now we'll have to split hte model up by utilizing sharding.\n",
        "\n",
        "Let's clear our GPU memory first"
      ]
    },
    {
      "cell_type": "code",
      "execution_count": 15,
      "id": "1d24ce82",
      "metadata": {},
      "outputs": [
        {
          "name": "stdout",
          "output_type": "stream",
          "text": [
            "✅ Distributed env torn down and memory cleared.\n"
          ]
        }
      ],
      "source": [
        "import src.utils.model_utils as mutils\n",
        "import gc\n",
        "importlib.reload(mutils)\n",
        "gc.collect()\n",
        "import psutil\n",
        "import torch.distributed as dist\n",
        "\n",
        "mutils.reset_distributed_and_clear_memory()"
      ]
    },
    {
      "cell_type": "markdown",
      "id": "fa9d227e",
      "metadata": {},
      "source": [
        "Now let's run our model 2 GPUs instead by utilizing sharding, data parallism, and other optimization techniques. This way we essentially double our memory, and split the model (parameters) across both GPUs. \n",
        "\n",
        "> Note we'll dive more into detail for these later"
      ]
    },
    {
      "cell_type": "code",
      "execution_count": 1,
      "id": "4a64f492",
      "metadata": {},
      "outputs": [
        {
          "ename": "ModuleNotFoundError",
          "evalue": "No module named 'src'",
          "output_type": "error",
          "traceback": [
            "\u001b[31m---------------------------------------------------------------------------\u001b[39m",
            "\u001b[31mModuleNotFoundError\u001b[39m                       Traceback (most recent call last)",
            "\u001b[36mCell\u001b[39m\u001b[36m \u001b[39m\u001b[32mIn[1]\u001b[39m\u001b[32m, line 4\u001b[39m\n\u001b[32m      2\u001b[39m \u001b[38;5;28;01mimport\u001b[39;00m\u001b[38;5;250m \u001b[39m\u001b[34;01mimportlib\u001b[39;00m\n\u001b[32m      3\u001b[39m \u001b[38;5;28;01mimport\u001b[39;00m\u001b[38;5;250m \u001b[39m\u001b[34;01mtorch\u001b[39;00m\n\u001b[32m----> \u001b[39m\u001b[32m4\u001b[39m \u001b[38;5;28;01mimport\u001b[39;00m\u001b[38;5;250m \u001b[39m\u001b[34;01msrc\u001b[39;00m\u001b[34;01m.\u001b[39;00m\u001b[34;01mutils\u001b[39;00m\u001b[34;01m.\u001b[39;00m\u001b[34;01mmodel_utils\u001b[39;00m\u001b[38;5;250m \u001b[39m\u001b[38;5;28;01mas\u001b[39;00m\u001b[38;5;250m \u001b[39m\u001b[34;01mmutils\u001b[39;00m\n\u001b[32m      5\u001b[39m importlib.reload(mutils)\n\u001b[32m      7\u001b[39m seq_len = \u001b[32m32\u001b[39m\n",
            "\u001b[31mModuleNotFoundError\u001b[39m: No module named 'src'"
          ]
        }
      ],
      "source": [
        "import json\n",
        "import importlib\n",
        "import torch\n",
        "import src.utils.model_utils as mutils\n",
        "importlib.reload(mutils)\n",
        "\n",
        "seq_len = 32\n",
        "min_new_tokens = 1\n",
        "world_size = 4\n",
        "\n",
        "ds_config = {\n",
        "    \"train_micro_batch_size_per_gpu\": 1,\n",
        "    \"gradient_accumulation_steps\": 1,\n",
        "\n",
        "    \"fp16\": { \"enabled\": True },\n",
        "    \n",
        "    # Ignore this for now\n",
        "    \"zero_optimization\": {\n",
        "        \"stage\": 3,\n",
        "        \"offload_param\": {\n",
        "            \"device\": \"cpu\",\n",
        "            \"pin_memory\": True\n",
        "        },\n",
        "        \"offload_optimizer\": {\n",
        "            \"device\": \"cpu\",\n",
        "            \"pin_memory\": True\n",
        "        },\n",
        "        # optional perf tweaks:\n",
        "        \"contiguous_gradients\": True,\n",
        "        \"overlap_comm\": True\n",
        "    },\n",
        "\n",
        "    \"optimizer\": {\n",
        "        \"type\": \"AdamW\",\n",
        "        \"params\": {\n",
        "            \"lr\": 3e-5,\n",
        "            \"betas\": [0.9, 0.999],\n",
        "            \"eps\": 1e-8,\n",
        "            \"weight_decay\": 0.01\n",
        "        }\n",
        "    },\n",
        "    \n",
        "    # Splitting the model across 4 GPUs\n",
        "    \"tensor_parallel\": {\n",
        "        \"enabled\": True,\n",
        "        \"tp_size\": world_size\n",
        "    },\n",
        "\n",
        "    \"replace_with_kernel_inject\": False,\n",
        "    \"enable_cuda_graph\": False\n",
        "}\n",
        "\n",
        "\n",
        "results = mutils.run_distributed_benchmark(\n",
        "    model_name=\"NousResearch/Meta-Llama-3.1-8B\",\n",
        "    seq_len=32,\n",
        "    batch_sizes=[1],\n",
        "    dtype=torch.bfloat16,\n",
        "    sharding=True,\n",
        "    world_size=4, # Number of GPUs\n",
        "    ds_config=ds_config\n",
        ")"
      ]
    },
    {
      "cell_type": "markdown",
      "id": "3dc68d6a",
      "metadata": {},
      "source": [
        "It takes about a minute on these GPUs to load the model into memory (one time). But once it finishes we can fit a much larger model into memory by utilizing mulitiple GPUs. And based on our last lab we can likely improve this by increasing the batch size as well.\n",
        "\n",
        "So what's happening?\n",
        "- We're splitting the model's weights across GPUs (sharding or tensor parallism), allowing us to fit a model with many more weights than we could on a single GPU\n",
        "- We are introducing communication between these GPUs, or **collective communications**\n",
        "\n",
        "> Note the library we're using in this case **Deepspeed** is likely doing additional optimizations\n",
        "\n",
        "Next let's peel away the library and see what's happening under the hood with sharding, or splitting data across GPUs, and collectivs where the GPUs communicate"
      ]
    },
    {
      "cell_type": "markdown",
      "id": "75856362",
      "metadata": {},
      "source": [
        "## Utilizing Multiple GPUs with GEMM\n",
        "\n",
        "In this section we'll demonstrate how data is split across GPUs, and how communication is achieved. This is a very deep topic so we'll only be covering the surface so you understand what the libraries you're utilizing are doing unde the hood."
      ]
    },
    {
      "cell_type": "markdown",
      "id": "0128d87a",
      "metadata": {},
      "source": [
        "### In Practice\n",
        "Let's go back to our GEMM calculation. This time let's use a much larger GEMM operation, and split it across our GPUs. First let's try to run a 26 GB matrix multiplication on a single GPU."
      ]
    },
    {
      "cell_type": "code",
      "execution_count": 17,
      "id": "78ce39df",
      "metadata": {},
      "outputs": [
        {
          "name": "stdout",
          "output_type": "stream",
          "text": [
            "load failed: CUDA out of memory. Tried to allocate 25.71 GiB. GPU 0 has a total capacity of 22.05 GiB of which 21.73 GiB is free. Including non-PyTorch memory, this process has 318.00 MiB memory in use. Of the allocated memory 16.25 MiB is allocated by PyTorch, and 63.75 MiB is reserved by PyTorch but unallocated. If reserved but unallocated memory is large try setting PYTORCH_CUDA_ALLOC_CONF=expandable_segments:True to avoid fragmentation.  See documentation for Memory Management  (https://pytorch.org/docs/stable/notes/cuda.html#environment-variables)\n"
          ]
        }
      ],
      "source": [
        "import torch\n",
        "try:\n",
        "    # Define matrix dimensions (e.g., 200_000 x 200_000 of float32 ~= 149 GB)\n",
        "    # We'll cut this down to fit ~26 GB (e.g., 115_000 x 60_000 float32)\n",
        "    rows, cols = 115_000, 60_000  # ~26 GB total\n",
        "\n",
        "    A = torch.randn((rows, cols), dtype=torch.float32, device='cuda:0')\n",
        "\n",
        "    # Matrix to multiply with (on each GPU, send it there)\n",
        "    # Shape: [cols, 1024] -> Output shape will be [rows, 1024]\n",
        "    B = torch.randn((cols, 1024), dtype=torch.float32, device='cuda:0')\n",
        "\n",
        "    out = A @ B\n",
        "except Exception as e:\n",
        "    print(f\"load failed: {e}\")\n",
        "    pass\n"
      ]
    },
    {
      "cell_type": "markdown",
      "id": "c8e4bfb2",
      "metadata": {},
      "source": [
        "Predictably this failed. Now let's manually device the matrix in half, and move each half to a seperate GPU."
      ]
    },
    {
      "cell_type": "code",
      "execution_count": 18,
      "id": "5ac63f5e",
      "metadata": {},
      "outputs": [
        {
          "name": "stdout",
          "output_type": "stream",
          "text": [
            "Output shape: torch.Size([115000, 1024])\n"
          ]
        },
        {
          "data": {
            "text/plain": [
              "0"
            ]
          },
          "execution_count": 18,
          "metadata": {},
          "output_type": "execute_result"
        }
      ],
      "source": [
        "import torch\n",
        "import src.utils.model_utils as mutils\n",
        "import importlib\n",
        "import gc\n",
        "importlib.reload(mutils)\n",
        "torch.cuda.empty_cache()\n",
        "torch.cuda.ipc_collect()\n",
        "gc.collect()\n",
        "# Assumes 2 GPUs available\n",
        "assert torch.cuda.device_count() >= 2\n",
        "\n",
        "# Simulate a large matrix that won't fit on one GPU\n",
        "# We'll split it along the row dimension\n",
        "half_rows = rows // 2\n",
        "\n",
        "# Allocate on GPU 0\n",
        "A0 = torch.randn((half_rows, cols), dtype=torch.float32, device='cuda:0')\n",
        "\n",
        "# Allocate on GPU 1\n",
        "A1 = torch.randn((rows - half_rows, cols), dtype=torch.float32, device='cuda:1')\n",
        "\n",
        "# Matrix to multiply with (on each GPU, send it there)\n",
        "# Shape: [cols, 1024] -> Output shape will be [rows, 1024]\n",
        "B = torch.randn((cols, 1024), dtype=torch.float32)\n",
        "\n",
        "# Send appropriate B chunks to GPUs\n",
        "B0 = B.to('cuda:0')\n",
        "B1 = B.to('cuda:1')\n",
        "\n",
        "# Multiply independently on both GPUs\n",
        "with torch.no_grad():\n",
        "    out0 = A0 @ B0\n",
        "    out1 = A1 @ B1\n",
        "\n",
        "# Bring result back to CPU\n",
        "out = torch.cat([out0.cpu(), out1.cpu()], dim=0)\n",
        "\n",
        "del A0, A1, B0, B1, out0, out1\n",
        "\n",
        "print(f\"Output shape: {out.shape}\")  # [115000, 1024]\n",
        "\n",
        "torch.cuda.empty_cache()\n",
        "torch.cuda.ipc_collect()\n",
        "gc.collect()"
      ]
    },
    {
      "cell_type": "markdown",
      "id": "5fe2d38d",
      "metadata": {},
      "source": [
        "Great! As you can see we were able to process a massive matrix across 2 GPUs easily, by simply providing half of the data to one GPU and half to the other. You can think of this like splitting your weights across 2 GPUs, that is effectively what libraries like Deepspeed are doing. \n",
        "\n",
        "This works great for 1 calculation, but what happens when you need to use the output of this for the next calculation? This is how neural networks and transformers work, one output is used as the input for the next layer. In the case we did above we just write back to the CPU, but this can be slow, so we want to keep data on GPU and have these GPUs communicate.\n",
        "\n",
        "This is where collectives come into play."
      ]
    },
    {
      "cell_type": "markdown",
      "id": "aae0564f",
      "metadata": {},
      "source": [
        "#### Collectives\n",
        "\n",
        "Here we will take our matrices, split them across GPUs, and communicate these changes across those GPUs so they could perform the next calculation without going back to the CPU. \n",
        "\n",
        "We'll effectively be doing the same thing, but adding an \"all_gather\" step. This informs the GPUs to communicate the results of the GEMM to each other GPU."
      ]
    },
    {
      "cell_type": "code",
      "execution_count": 19,
      "id": "76d2eb07",
      "metadata": {},
      "outputs": [
        {
          "name": "stderr",
          "output_type": "stream",
          "text": [
            "huggingface/tokenizers: The current process just got forked, after parallelism has already been used. Disabling parallelism to avoid deadlocks...\n",
            "To disable this warning, you can either:\n",
            "\t- Avoid using `tokenizers` before the fork if possible\n",
            "\t- Explicitly set the environment variable TOKENIZERS_PARALLELISM=(true | false)\n"
          ]
        },
        {
          "name": "stdout",
          "output_type": "stream",
          "text": [
            "[Rank 0] Starting process on cuda:0\n",
            "[Rank 1] Starting process on cuda:1\n",
            "[Rank 1] Initialized NCCL process group with world_size=2\n",
            "[Rank 0] Initialized NCCL process group with world_size=2\n",
            "[Rank 1] Created local shard of A: shape=torch.Size([57500, 60000]) on cuda:1\n",
            "[Rank 1] Allocated empty matrix B to receive broadcast: shape=torch.Size([60000, 1024]) on cuda:1\n",
            "[Rank 0] Created local shard of A: shape=torch.Size([57500, 60000]) on cuda:0\n",
            "[Rank 0] Created full matrix B: shape=torch.Size([60000, 1024]) on cuda:0\n",
            "[Rank 0] Completed broadcast of B\n",
            "[Rank 0] Performing matmul: A_local (torch.Size([57500, 60000])) @ B (torch.Size([60000, 1024]))\n",
            "[Rank 1] Completed broadcast of B\n",
            "[Rank 1] Performing matmul: A_local (torch.Size([57500, 60000])) @ B (torch.Size([60000, 1024]))\n",
            "[Rank 0] Finished matmul. Output shape: torch.Size([57500, 1024]). Time: 0.687s\n",
            "[Rank 0] Prepared buffers for all_gather\n",
            "[Rank 0] Completed all_gather of local outputs\n",
            "[Rank 1] Finished matmul. Output shape: torch.Size([57500, 1024]). Time: 0.712s\n",
            "[Rank 1] Prepared buffers for all_gather\n",
            "[Rank 1] Completed all_gather of local outputs\n",
            "[Rank 1] Full output assembled: shape=torch.Size([115000, 1024]) (still on cuda:1)[Rank 0] Full output assembled: shape=torch.Size([115000, 1024]) (still on cuda:0)\n",
            "\n",
            "[Rank 0] Saved result to shared_results\n",
            "[Rank 0] Destroyed process group and exiting\n",
            "[Rank 1] Destroyed process group and exiting\n"
          ]
        },
        {
          "data": {
            "text/plain": [
              "[{'output_shape': torch.Size([115000, 1024]),\n",
              "  'rows_per_rank': 57500,\n",
              "  'device': 'cuda:0'}]"
            ]
          },
          "execution_count": 19,
          "metadata": {},
          "output_type": "execute_result"
        }
      ],
      "source": [
        "import importlib\n",
        "import src.utils.gemm_utils as gutils\n",
        "importlib.reload(gutils)\n",
        "\n",
        "gutils.distributed_gemm()"
      ]
    },
    {
      "cell_type": "markdown",
      "id": "9f265866",
      "metadata": {},
      "source": [
        "If you read through the results you should see the following:\n",
        "\n",
        "Two processes are launched, one per GPU (cuda:0 and cuda:1). Each process initializes its own NCCL (GPU communications) communication context as part of a world of 2 ranks.\n",
        "Both ranks independently allocate a shard of the large matrix A, each of shape [57500, 60000], representing half of the full input.\n",
        "\n",
        "Rank 0 generates the shared weight matrix B with shape [60000, 1024], while Rank 1 allocates an empty buffer for B. Rank 0 then broadcasts B to Rank 1 so that both GPUs have the same weights.\n",
        "\n",
        "Each rank performs matrix multiplication using its local A shard and the full B, producing an output tensor of shape [57500, 1024]. These operations take approximately 0.7 seconds on each GPU.\n",
        "\n",
        "After local matmul, both ranks allocate output buffers and perform an all_gather, collecting the outputs from each rank. This results in a fully assembled output tensor of shape [115000, 1024] on both GPUs.\n",
        "\n",
        "Finally, Rank 0 logs the output metadata, and both ranks cleanly shut down their distributed process groups.\n",
        "\n",
        "It is highly recomended you read through [gemm_utils.py](../src/utils/gemm_utils.py), specifically the `_distributed_gemm_worker` function to gain a full understanding of what each GPU is running. This is effectively what pytorch, deepspeed, and most other libraries are using under the hood to break up and aggregate results from matrix multiplications.\n",
        "\n",
        "> Note in practice you won't be writing these from scratch, however having an understanding of what these libraries are doing provide you capabilities to optimize your workload to a very deep level once you hit massive scale"
      ]
    },
    {
      "cell_type": "markdown",
      "id": "9bbf94e6",
      "metadata": {},
      "source": [
        "## Conclusion\n",
        "\n",
        "In this portion of the lab we learned how you can utilize sharding and collectives to allow your GPUs to collaborate. In the next portion of this lab, we will learn how common libraries utilize this technique at a high level to get optimal performance, and the different strategies that can be employed."
      ]
    }
  ],
  "metadata": {
    "kernelspec": {
      "display_name": "Python 3",
      "language": "python",
      "name": "python3"
    },
    "language_info": {
      "codemirror_mode": {
        "name": "ipython",
        "version": 3
      },
      "file_extension": ".py",
      "mimetype": "text/x-python",
      "name": "python",
      "nbconvert_exporter": "python",
      "pygments_lexer": "ipython3",
      "version": "3.12.6"
    }
  },
  "nbformat": 4,
  "nbformat_minor": 5
}
